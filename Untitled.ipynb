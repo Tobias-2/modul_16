{
 "cells": [
  {
   "cell_type": "code",
   "execution_count": 3,
   "id": "19eb2fb0-8aa5-4283-8757-0f669f25002c",
   "metadata": {},
   "outputs": [],
   "source": [
    "import numpy as np\n",
    "from sklearn.model_selection import train_test_split"
   ]
  },
  {
   "cell_type": "code",
   "execution_count": 4,
   "id": "8f112c86-999d-4a2f-b885-ca854db758b7",
   "metadata": {},
   "outputs": [
    {
     "ename": "NameError",
     "evalue": "name 'X' is not defined",
     "output_type": "error",
     "traceback": [
      "\u001b[1;31m---------------------------------------------------------------------------\u001b[0m",
      "\u001b[1;31mNameError\u001b[0m                                 Traceback (most recent call last)",
      "Cell \u001b[1;32mIn[4], line 1\u001b[0m\n\u001b[1;32m----> 1\u001b[0m X_train, y_train, X_test, y_test \u001b[38;5;241m=\u001b[39m train_test_split(X, y, test_size\u001b[38;5;241m=\u001b[39m\u001b[38;5;241m0.2\u001b[39m)\n",
      "\u001b[1;31mNameError\u001b[0m: name 'X' is not defined"
     ]
    }
   ],
   "source": [
    "X_train, y_train, X_test, y_test = train_test_split(X, y, test_size=0.2)"
   ]
  },
  {
   "cell_type": "code",
   "execution_count": 6,
   "id": "b157e335-18b9-4550-a079-99007e7356d7",
   "metadata": {},
   "outputs": [],
   "source": [
    "from sklearn.datasets import load_iris\n",
    "\n",
    "iris = load_iris()\n",
    "\n",
    "X, y, iris_classes = iris.data, iris.target, iris.target_names"
   ]
  },
  {
   "cell_type": "code",
   "execution_count": 10,
   "id": "a0f36c35-371c-444c-8b04-2757b9fe0c05",
   "metadata": {},
   "outputs": [],
   "source": [
    "import numpy as np\n",
    "from sklearn.model_selection import KFold"
   ]
  },
  {
   "cell_type": "code",
   "execution_count": 14,
   "id": "2c88f37d-1825-4ba4-8c10-f5aacbb3a0cd",
   "metadata": {},
   "outputs": [],
   "source": [
    "kf = KFold"
   ]
  },
  {
   "cell_type": "code",
   "execution_count": 16,
   "id": "5e212f4d-7284-43b3-a0ca-ba039d346a34",
   "metadata": {},
   "outputs": [
    {
     "ename": "TypeError",
     "evalue": "_BaseKFold.split() missing 1 required positional argument: 'X'",
     "output_type": "error",
     "traceback": [
      "\u001b[1;31m---------------------------------------------------------------------------\u001b[0m",
      "\u001b[1;31mTypeError\u001b[0m                                 Traceback (most recent call last)",
      "Cell \u001b[1;32mIn[16], line 1\u001b[0m\n\u001b[1;32m----> 1\u001b[0m \u001b[38;5;28;01mfor\u001b[39;00m fold_nr, (train_idx, test_idx) \u001b[38;5;129;01min\u001b[39;00m \u001b[38;5;28menumerate\u001b[39m(kf\u001b[38;5;241m.\u001b[39msplit(X)):\n\u001b[0;32m      2\u001b[0m   X_train \u001b[38;5;241m=\u001b[39m X[train_idx]\n\u001b[0;32m      3\u001b[0m   X_test \u001b[38;5;241m=\u001b[39m X[test_idx]\n",
      "\u001b[1;31mTypeError\u001b[0m: _BaseKFold.split() missing 1 required positional argument: 'X'"
     ]
    }
   ],
   "source": [
    "for fold_nr, (train_idx, test_idx) in enumerate(kf.split(X)):\n",
    "  X_train = X[train_idx]\n",
    "  X_test = X[test_idx]\n",
    "\n",
    "  y_train = y[train_idx]\n",
    "  y_test = y[test_idx]"
   ]
  },
  {
   "cell_type": "code",
   "execution_count": 18,
   "id": "3a5fba2b-7a4c-4fd1-bc2e-8abd42b3d913",
   "metadata": {},
   "outputs": [
    {
     "name": "stdout",
     "output_type": "stream",
     "text": [
      "wyniki poszczególnych foldów:  [0.8666666666666667, 0.9333333333333333, 0.9666666666666667, 0.9, 0.9333333333333333]\n",
      "średni wynik wszystkich foldów:  0.9199999999999999\n"
     ]
    }
   ],
   "source": [
    "import numpy as np\n",
    "\n",
    "from sklearn.model_selection import KFold\n",
    "from sklearn.preprocessing import StandardScaler\n",
    "from sklearn.linear_model import SGDClassifier\n",
    "\n",
    "scaler = StandardScaler()\n",
    "\n",
    "kf = KFold(n_splits=5, shuffle=True, random_state=1)\n",
    "\n",
    "models = []\n",
    "scores = []\n",
    "\n",
    "for fold_nr, (train_idx, test_idx) in enumerate(kf.split(X)):\n",
    "  X_train = X[train_idx]\n",
    "  X_test =X[test_idx]\n",
    "\n",
    "  y_train = y[train_idx]\n",
    "  y_test = y[test_idx]\n",
    "\n",
    "  # skalowanie danych wejściowych, aby model lepiej działał\n",
    "  X_train = scaler.fit_transform(X_train)\n",
    "  X_test = scaler.transform(X_test)\n",
    "\n",
    "  clf = SGDClassifier(random_state=1).fit(X_train, y_train)\n",
    "\n",
    "  models.append(clf)\n",
    "  scores.append(clf.score(X_test, y_test))\n",
    "\n",
    "\n",
    "print(\"wyniki poszczególnych foldów: \", scores)\n",
    "print(\"średni wynik wszystkich foldów: \", np.array(scores).mean())"
   ]
  },
  {
   "cell_type": "code",
   "execution_count": 20,
   "id": "6b879078-e1a4-46b2-8ddd-352cb6d21337",
   "metadata": {},
   "outputs": [
    {
     "name": "stdout",
     "output_type": "stream",
     "text": [
      "wynik kroswalidacji:  [0.83333333 0.93333333 0.8        0.7        0.9       ]\n",
      "średni wynik wszystkich foldów:  0.8333333333333334\n"
     ]
    }
   ],
   "source": [
    "from sklearn.model_selection import cross_val_score, cross_val_predict\n",
    "\n",
    "# stworzenie klasyfikatora\n",
    "clf = SGDClassifier(random_state=1)\n",
    "\n",
    "# użycie metody cross_val_score do sprawdzenia\n",
    "# działania naszego modelu na różnych podziałach\n",
    "cv_score = cross_val_score(clf, X, y, cv=5)\n",
    "print(\"wynik kroswalidacji: \", cv_score)\n",
    "print(\"średni wynik wszystkich foldów: \", cv_score.mean())"
   ]
  },
  {
   "cell_type": "code",
   "execution_count": 24,
   "id": "5d13c1d0-9fa8-42be-b0bb-744a454e9ef2",
   "metadata": {},
   "outputs": [],
   "source": [
    "import numpy as np\n",
    "from sklearn.model_selection import StratifiedKFold"
   ]
  },
  {
   "cell_type": "code",
   "execution_count": 26,
   "id": "018dfcd0-9664-4a39-8c16-fc3a67befce0",
   "metadata": {},
   "outputs": [
    {
     "ename": "IndexError",
     "evalue": "only integers, slices (`:`), ellipsis (`...`), numpy.newaxis (`None`) and integer or boolean arrays are valid indices",
     "output_type": "error",
     "traceback": [
      "\u001b[1;31m---------------------------------------------------------------------------\u001b[0m",
      "\u001b[1;31mIndexError\u001b[0m                                Traceback (most recent call last)",
      "Cell \u001b[1;32mIn[26], line 2\u001b[0m\n\u001b[0;32m      1\u001b[0m X_train, X_test, y_train, y_test \u001b[38;5;241m=\u001b[39m \\\n\u001b[1;32m----> 2\u001b[0m   train_test_split(X, y, test_size\u001b[38;5;241m=\u001b[39m\u001b[38;5;241m0.2\u001b[39m, stratify\u001b[38;5;241m=\u001b[39mX[\u001b[38;5;124m\"\u001b[39m\u001b[38;5;124milość_kupionych_butów\u001b[39m\u001b[38;5;124m\"\u001b[39m])\n",
      "\u001b[1;31mIndexError\u001b[0m: only integers, slices (`:`), ellipsis (`...`), numpy.newaxis (`None`) and integer or boolean arrays are valid indices"
     ]
    }
   ],
   "source": [
    "X_train, X_test, y_train, y_test = \\\n",
    "  train_test_split(X, y, test_size=0.2, stratify=X[\"ilość_kupionych_butów\"])"
   ]
  },
  {
   "cell_type": "code",
   "execution_count": 28,
   "id": "a8ae9190-17db-443e-956f-645975b52739",
   "metadata": {},
   "outputs": [],
   "source": [
    "#Przykład 16.3 Wrapper"
   ]
  },
  {
   "cell_type": "code",
   "execution_count": 30,
   "id": "5a6ac812-ecfb-4171-b8a1-6d5f8611a5ce",
   "metadata": {},
   "outputs": [
    {
     "name": "stdout",
     "output_type": "stream",
     "text": [
      ">Train: 0=790, 1=10, Test: 0=200, 1=0\n"
     ]
    }
   ],
   "source": [
    "from sklearn.model_selection import train_test_split\n",
    "from sklearn.datasets import make_classification\n",
    "\n",
    "X, y = make_classification(\n",
    "    n_samples=1000,\n",
    "    n_classes=2,\n",
    "    weights=[0.99, 0.01],\n",
    "    flip_y=0,\n",
    "    random_state=1\n",
    ")\n",
    "\n",
    "X_train, X_test, y_train, y_test = \\\n",
    "    train_test_split(X, y, test_size = 0.2, random_state=3)\n",
    "\n",
    "train_0, train_1 = len(y_train[y_train==0]), len(y_train[y_train==1])\n",
    "test_0, test_1 = len(y_test[y_test==0]), len(y_test[y_test==1])\n",
    "\n",
    "print('>Train: 0=%d, 1=%d, Test: 0=%d, 1=%d' % (train_0, train_1, test_0, test_1))"
   ]
  },
  {
   "cell_type": "code",
   "execution_count": 32,
   "id": "fda40662-218b-4fbb-ba09-0828cd9c06e0",
   "metadata": {},
   "outputs": [
    {
     "name": "stdout",
     "output_type": "stream",
     "text": [
      ">Train: 0=792, 1=8, Test: 0=198, 1=2\n"
     ]
    }
   ],
   "source": [
    "X_train, X_test, y_train, y_test = \\\n",
    "    train_test_split(X, y, test_size = 0.2, random_state=3, stratify=y)\n",
    "\n",
    "train_0, train_1 = len(y_train[y_train==0]), len(y_train[y_train==1])\n",
    "test_0, test_1 = len(y_test[y_test==0]), len(y_test[y_test==1])\n",
    "\n",
    "print('>Train: 0=%d, 1=%d, Test: 0=%d, 1=%d' % (train_0, train_1, test_0, test_1))"
   ]
  },
  {
   "cell_type": "code",
   "execution_count": 40,
   "id": "928aeec8-4c4d-42e7-a80c-8e7d2b3cab49",
   "metadata": {},
   "outputs": [
    {
     "ename": "IndentationError",
     "evalue": "unexpected indent (3753157714.py, line 13)",
     "output_type": "error",
     "traceback": [
      "\u001b[1;36m  Cell \u001b[1;32mIn[40], line 13\u001b[1;36m\u001b[0m\n\u001b[1;33m    for fold_nr, (train_idx, test_idx) in enumerate(kf.split(X, y)):\u001b[0m\n\u001b[1;37m    ^\u001b[0m\n\u001b[1;31mIndentationError\u001b[0m\u001b[1;31m:\u001b[0m unexpected indent\n"
     ]
    }
   ],
   "source": [
    "from sklearn.model_selection import StratifiedKFold\n",
    "\n",
    "X, y = make_classification(\n",
    "    n_samples=1000,\n",
    "    n_classes=2,\n",
    "    weights=[0.99, 0.01],\n",
    "    flip_y=0,\n",
    "    random_state=1\n",
    ")\n",
    "\n",
    "X_train, X_test, y_train, y_test = \\\n",
    "    train_test_split(X, y, test_size = 0.2, random_state=3)\n",
    "    for fold_nr, (train_idx, test_idx) in enumerate(kf.split(X, y)):\n",
    "\n",
    "train_0, train_1 = len(y_train[y_train==0]), len(y_train[y_train==1])\n",
    "test_0, test_1 = len(y_test[y_test==0]), len(y_test[y_test==1])\n",
    "\n",
    "print('>Train: 0=%d, 1=%d, Test: 0=%d, 1=%d' % (train_0, train_1, test_0, test_1))"
   ]
  },
  {
   "cell_type": "code",
   "execution_count": 42,
   "id": "6c894b91-d6a5-4ef6-861a-d5153b618c1f",
   "metadata": {},
   "outputs": [
    {
     "name": "stdout",
     "output_type": "stream",
     "text": [
      "Train: 0=792, 1=8, Test: 0=198, 1=2\n",
      "Fold 1: Train class distribution: {0: 792, 1: 8}\n",
      "Fold 1: Test class distribution: {0: 198, 1: 2}\n",
      "Fold 2: Train class distribution: {0: 792, 1: 8}\n",
      "Fold 2: Test class distribution: {0: 198, 1: 2}\n",
      "Fold 3: Train class distribution: {0: 792, 1: 8}\n",
      "Fold 3: Test class distribution: {0: 198, 1: 2}\n",
      "Fold 4: Train class distribution: {0: 792, 1: 8}\n",
      "Fold 4: Test class distribution: {0: 198, 1: 2}\n",
      "Fold 5: Train class distribution: {0: 792, 1: 8}\n",
      "Fold 5: Test class distribution: {0: 198, 1: 2}\n"
     ]
    }
   ],
   "source": [
    "import numpy as np\n",
    "from sklearn.datasets import make_classification\n",
    "from sklearn.model_selection import train_test_split, StratifiedKFold\n",
    "\n",
    "# Generate imbalanced dataset\n",
    "X, y = make_classification(\n",
    "    n_samples=1000,\n",
    "    n_classes=2,\n",
    "    weights=[0.99, 0.01],\n",
    "    flip_y=0,\n",
    "    random_state=1\n",
    ")\n",
    "\n",
    "# Split the dataset while preserving class distribution\n",
    "X_train, X_test, y_train, y_test = train_test_split(\n",
    "    X, y, test_size=0.2, random_state=3, stratify=y\n",
    ")\n",
    "\n",
    "# Count the occurrences of each class in the training and testing sets\n",
    "train_0, train_1 = (y_train == 0).sum(), (y_train == 1).sum()\n",
    "test_0, test_1 = (y_test == 0).sum(), (y_test == 1).sum()\n",
    "\n",
    "print(f'Train: 0={train_0}, 1={train_1}, Test: 0={test_0}, 1={test_1}')\n",
    "\n",
    "# Initialize StratifiedKFold\n",
    "kf = StratifiedKFold(n_splits=5, shuffle=True, random_state=42)\n",
    "\n",
    "# Iterate over each fold\n",
    "for fold_nr, (train_idx, test_idx) in enumerate(kf.split(X, y)):\n",
    "    X_train_fold, X_test_fold = X[train_idx], X[test_idx]\n",
    "    y_train_fold, y_test_fold = y[train_idx], y[test_idx]\n",
    "    # Here, you can train your model on X_train_fold, y_train_fold\n",
    "    # and evaluate it on X_test_fold, y_test_fold\n",
    "    print(f'Fold {fold_nr + 1}: Train class distribution: {dict(zip(*np.unique(y_train_fold, return_counts=True)))}')\n",
    "    print(f'Fold {fold_nr + 1}: Test class distribution: {dict(zip(*np.unique(y_test_fold, return_counts=True)))}')\n",
    "\n",
    "\n"
   ]
  },
  {
   "cell_type": "code",
   "execution_count": 44,
   "id": "c38ff701-2a21-45f8-a876-69a1495397d5",
   "metadata": {},
   "outputs": [
    {
     "name": "stdout",
     "output_type": "stream",
     "text": [
      ">Train: 0=792, 1=8, Test: 0=198, 1=2\n"
     ]
    }
   ],
   "source": [
    "X_train, X_test, y_train, y_test = \\\n",
    "    train_test_split(X, y, test_size = 0.2, random_state=3, stratify=y)\n",
    "\n",
    "train_0, train_1 = len(y_train[y_train==0]), len(y_train[y_train==1])\n",
    "test_0, test_1 = len(y_test[y_test==0]), len(y_test[y_test==1])\n",
    "\n",
    "print('>Train: 0=%d, 1=%d, Test: 0=%d, 1=%d' % (train_0, train_1, test_0, test_1))"
   ]
  },
  {
   "cell_type": "code",
   "execution_count": 50,
   "id": "9af21415-38bf-41af-9514-84e5dbbf354b",
   "metadata": {},
   "outputs": [
    {
     "name": "stdout",
     "output_type": "stream",
     "text": [
      ">Train: 0=792, 1=8, Test: 0=198, 1=2\n"
     ]
    }
   ],
   "source": [
    "from sklearn.model_selection import StratifiedKFold\n",
    "\n",
    "# ... dotąd tak samo, jak w poprzednim przykładzie\n",
    "\n",
    "# dodatkowy parametr y w metodzie split\n",
    "for fold_nr, (train_idx, test_idx) in enumerate(kf.split(X, y)):\n",
    "    X_train, X_test, y_train, y_test = \\\n",
    "        train_test_split(X, y, test_size = 0.2, random_state=3, stratify=y)\n",
    "\n",
    "train_2, train_3 = len(y_train[y_train==0]), len(y_train[y_train==1])\n",
    "test_2, test_3 = len(y_test[y_test==0]), len(y_test[y_test==1])\n",
    "\n",
    "print('>Train: 0=%d, 1=%d, Test: 0=%d, 1=%d' % (train_2, train_3, test_2, test_3))"
   ]
  },
  {
   "cell_type": "code",
   "execution_count": null,
   "id": "23cacb1f-7113-4466-980c-c15284f6df0d",
   "metadata": {},
   "outputs": [],
   "source": []
  }
 ],
 "metadata": {
  "kernelspec": {
   "display_name": "Python 3 (ipykernel)",
   "language": "python",
   "name": "python3"
  },
  "language_info": {
   "codemirror_mode": {
    "name": "ipython",
    "version": 3
   },
   "file_extension": ".py",
   "mimetype": "text/x-python",
   "name": "python",
   "nbconvert_exporter": "python",
   "pygments_lexer": "ipython3",
   "version": "3.12.3"
  }
 },
 "nbformat": 4,
 "nbformat_minor": 5
}
