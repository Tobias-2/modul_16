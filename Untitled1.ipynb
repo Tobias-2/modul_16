{
 "cells": [
  {
   "cell_type": "code",
   "execution_count": null,
   "id": "4f15dea3-6afc-4d05-85ff-bd1b38e38aac",
   "metadata": {},
   "outputs": [],
   "source": [
    "from sklearn.datasets import load_wine\n",
    "data = load_wine()"
   ]
  },
  {
   "cell_type": "code",
   "execution_count": null,
   "id": "71f018d4-d3f6-47ab-9204-b3ac97d1b674",
   "metadata": {},
   "outputs": [],
   "source": [
    "import numpy as np\n",
    "\n",
    "from sklearn.datasets import make_blobs\n",
    "\n",
    "# środki naszych klastrów\n",
    "\n",
    "centroids = np.array([\n",
    "    [ 0.8, 2.0],\n",
    "    [-0.5, 2.0],\n",
    "    [-2.0, 2.0],\n",
    "    [-2.5, 2.5],\n",
    "    [-2.5, 1.0]\n",
    "])\n",
    "\n",
    "# wprowadzenie szumu do naszych klastrów, aby rozrzucić próbki\n",
    "blob_std = np.array([0.4, 0.3, 0.1, 0.1, 0.1])\n",
    "\n",
    "# stworzenie zbioru danych\n",
    "X, y = make_blobs(\n",
    "    n_samples=3000,\n",
    "    centers=centroids,\n",
    "    cluster_std=blob_std,\n",
    "    random_state=7\n",
    ")"
   ]
  },
  {
   "cell_type": "code",
   "execution_count": null,
   "id": "873ae87e-00ee-4d55-9bcc-d9d50c10afc5",
   "metadata": {},
   "outputs": [],
   "source": [
    "import matplotlib.pyplot as plt"
   ]
  },
  {
   "cell_type": "code",
   "execution_count": null,
   "id": "cff7eb35-6c48-430d-88df-efd5c460bdda",
   "metadata": {},
   "outputs": [],
   "source": [
    "from sklearn.cluster import KMeans\n",
    "\n",
    "clf = KMeans(n_clusters=5)\n",
    "\n",
    "# możemy użyć metod fit(), predict()\n",
    "clf.fit(X)\n",
    "y_pred = clf.predict(X)\n",
    "\n",
    "# albo metody fit)predict, która łączy dwie powyższe\n",
    "y_pred = clf.fit_predict(X)"
   ]
  },
  {
   "cell_type": "code",
   "execution_count": null,
   "id": "5404d246-0c3b-4439-b9a8-1fc3e374b351",
   "metadata": {},
   "outputs": [],
   "source": [
    "centroids = np.array([\n",
    "    [ 0.8, 2.0],\n",
    "    [-0.5, 2.0],\n",
    "    [-2.0, 2.0],\n",
    "    [-2.5, 2.5],\n",
    "    [-2.5, 1.0]\n",
    "])\n",
    "\n",
    "blob_std = np.array([0.4, 0.3, 0.1, 0.1, 0.1])\n",
    "\n",
    "# 3 miliony punktów!!!\n",
    "X, y = make_blobs(\n",
    "    n_samples=30000000,\n",
    "    centers=centroids,\n",
    "    cluster_std=blob_std,\n",
    "    random_state=7\n",
    ")"
   ]
  },
  {
   "cell_type": "code",
   "execution_count": null,
   "id": "3b6d858b-ae1d-411f-969d-02bb0d861392",
   "metadata": {},
   "outputs": [],
   "source": [
    "from sklearn.cluster import MiniBatchKMeans\n",
    "\n",
    "%timeit\n",
    "\n",
    "# metoda MiniBatchKMeans\n",
    "MBKMeans_clf = MiniBatchKMeans(n_clusters=5, max_iter=10, random_state=1)\n",
    "MBKMeans_clf.fit(X)"
   ]
  },
  {
   "cell_type": "code",
   "execution_count": null,
   "id": "d0e24ed9-468e-4797-9609-5d746322273d",
   "metadata": {},
   "outputs": [],
   "source": [
    "from sklearn.cluster import KMeans\n",
    "\n",
    "%timeit\n",
    "\n",
    "# metoda KMeans\n",
    "KMeans_clf = KMeans(n_clusters=5, max_iter=10, random_state=1)\n",
    "KMeans_clf.fit(X)"
   ]
  },
  {
   "cell_type": "code",
   "execution_count": 21,
   "id": "b1dbea61-fe8f-4159-a4a7-f5ecf5acddaf",
   "metadata": {},
   "outputs": [],
   "source": [
    "# tworzymy 19 algorytmów z k od 1 do 19\n",
    "kmeans_per_k = [\n",
    "    KMeans(n_clusters=k, random_state=2).fit(X)\n",
    "    for k in range(2, 20) # zaczynamy od wartości n_clusters wynoszącej 2, gdyż nie ma sensu dzielenia zbioru dla 1 klastra\n",
    "]"
   ]
  },
  {
   "cell_type": "code",
   "execution_count": 22,
   "id": "e87266ab-e90b-4f9a-b61c-8752de7d02b6",
   "metadata": {},
   "outputs": [
    {
     "data": {
      "image/png": "[encoded data removed]",
      "text/plain": [
       "<Figure size 640x480 with 1 Axes>"
      ]
     },
     "metadata": {},
     "output_type": "display_data"
    }
   ],
   "source": [
    "import matplotlib.pyplot as plt\n",
    "inertias = [model.inertia_ for model in kmeans_per_k]\n",
    "plt.plot(range(2, 20), inertias, 'bx-')\n",
    "plt.xlabel('K')\n",
    "plt.ylabel('SSE')\n",
    "plt.title('Elbow Method using SSE')\n",
    "plt.show()"
   ]
  },
  {
   "cell_type": "code",
   "execution_count": null,
   "id": "b2b558d6-d05b-4dcf-a7f8-f5626366031f",
   "metadata": {},
   "outputs": [],
   "source": [
    "from sklearn.metrics import silhouette_score\n",
    "\n",
    "silhouette_scores = [\n",
    "    silhouette_score(X, model.labels_)\n",
    "    for model in kmeans_per_k\n",
    "]"
   ]
  },
  {
   "cell_type": "code",
   "execution_count": null,
   "id": "c18a21a8-a7eb-4a46-8b7e-6e82ab39d31e",
   "metadata": {},
   "outputs": [],
   "source": [
    "from matplotlib import pyplot as plt\n",
    "\n",
    "plt.figure(figsize=(8, 3))\n",
    "plt.plot(range(2, 10), silhouette_scores, \"bo-\")\n",
    "plt.ylabel(\"Silhouette score\", fontsize=14)\n",
    "plt.grid()\n",
    "plt.show()"
   ]
  },
  {
   "cell_type": "code",
   "execution_count": null,
   "id": "edcf7411-dc51-4db0-a1dd-792030d98eab",
   "metadata": {},
   "outputs": [],
   "source": [
    "from sklearn.linear_model import LogisticRegression\n",
    "from sklearn.datasets import load_digits\n",
    "from sklearn.model_selection import train_test_split\n",
    "from sklearn.pipeline import Pipeline\n",
    "\n",
    "X_digits, y_digits = load_digits(return_X_y=True)\n",
    "X_train, X_test, y_train, y_test = \\\n",
    "    train_test_split(X_digits, y_digits, random_state=2)\n",
    "\n",
    "log_reg = LogisticRegression(multi_class=\"ovr\", max_iter=5000, random_state=2)\n",
    "log_reg.fit(X_train, y_train)\n",
    "\n",
    "print(\"Bez KMeans :\", log_reg.score(X_test, y_test))\n",
    "\n",
    "pipeline = Pipeline([\n",
    "    (\"kmeans\", KMeans(\n",
    "        n_clusters=40,\n",
    "        random_state=2\n",
    "    )),\n",
    "    (\"log_reg\", LogisticRegression(\n",
    "        multi_class=\"ovr\",\n",
    "        max_iter=5000,\n",
    "        random_state=2\n",
    "    )),\n",
    "])\n",
    "pipeline.fit(X_train, y_train)\n",
    "\n",
    "print(\"Z KMeans :\", pipeline.score(X_test, y_test))"
   ]
  },
  {
   "cell_type": "code",
   "execution_count": null,
   "id": "fad1a795-a8e6-45d5-94df-9ee8f5b32eb3",
   "metadata": {},
   "outputs": [],
   "source": []
  }
 ],
 "metadata": {
  "kernelspec": {
   "display_name": "Python 3 (ipykernel)",
   "language": "python",
   "name": "python3"
  },
  "language_info": {
   "codemirror_mode": {
    "name": "ipython",
    "version": 3
   },
   "file_extension": ".py",
   "mimetype": "text/x-python",
   "name": "python",
   "nbconvert_exporter": "python",
   "pygments_lexer": "ipython3",
   "version": "3.12.3"
  }
 },
 "nbformat": 4,
 "nbformat_minor": 5
}
